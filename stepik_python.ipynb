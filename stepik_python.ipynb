{
 "cells": [
  {
   "cell_type": "markdown",
   "metadata": {},
   "source": [
    "# Задания по курсу \"Программирование на Python\""
   ]
  },
  {
   "cell_type": "markdown",
   "metadata": {},
   "source": [
    "### Задание 1\n",
    "\n",
    "Когда Павел учился в школе, он запоминал таблицу умножения прямоугольными блоками. Для тренировок ему бы очень пригодилась программа, которая показывала бы блок таблицы умножения.\n",
    "\n",
    "Напишите программу, на вход которой даются четыре числа aa, bb, cc и dd, каждое в своей строке. Программа должна вывести фрагмент таблицы умножения для всех чисел отрезка [a; b][a;b] на все числа отрезка [c;d][c;d].\n",
    "\n",
    "Числа aa, bb, cc и dd являются натуральными и не превосходят 10, a \\le ba≤b, c \\le dc≤d.\n",
    "\n",
    "Следуйте формату вывода из примера, для разделения элементов внутри строки используйте '\\t' — символ табуляции. Заметьте, что левым столбцом и верхней строкой выводятся сами числа из заданных отрезков — заголовочные столбец и строка таблицы."
   ]
  },
  {
   "cell_type": "code",
   "execution_count": null,
   "metadata": {},
   "outputs": [],
   "source": [
    "a = int(input())\n",
    "b = int(input())\n",
    "c = int(input())\n",
    "d = int(input())\n",
    "\n",
    "for i in range(c, d+1):\n",
    "    print('\\t' + str(i), end='')\n",
    "\n",
    "print()\n",
    "\n",
    "for j in range(a, b+1):\n",
    "    print(j, sep='\\t', end='\\t')\n",
    "    for i in range(c, d+1):\n",
    "        num = i * j\n",
    "        print(str(num), sep='\\t', end='\\t')\n",
    "    print()"
   ]
  },
  {
   "cell_type": "markdown",
   "metadata": {},
   "source": [
    "### Задание 2\n",
    "\n",
    "Узнав, что ДНК не является случайной строкой, только что поступившие в Институт биоинформатики студенты группы информатиков предложили использовать алгоритм сжатия, который сжимает повторяющиеся символы в строке.\n",
    "\n",
    "Кодирование осуществляется следующим образом:\n",
    "s = 'aaaabbсaa' преобразуется в 'a4b2с1a2', то есть группы одинаковых символов исходной строки заменяются на этот символ и количество его повторений в этой позиции строки.\n",
    "\n",
    "Напишите программу, которая считывает строку, кодирует её предложенным алгоритмом и выводит закодированную последовательность на стандартный вывод. Кодирование должно учитывать регистр символов."
   ]
  },
  {
   "cell_type": "code",
   "execution_count": null,
   "metadata": {},
   "outputs": [],
   "source": [
    "s = input()\n",
    "l = len(s)\n",
    "cnt = 1\n",
    "\n",
    "for elem in range(l):\n",
    "    if elem == (l-1):\n",
    "        print(s[elem] + str(cnt), end='')\n",
    "    else:\n",
    "        if s[elem] == s[elem+1]:\n",
    "            cnt = cnt + 1\n",
    "        else:\n",
    "            print(s[elem] + str(cnt), end='')\n",
    "            cnt = 1"
   ]
  },
  {
   "cell_type": "markdown",
   "metadata": {},
   "source": [
    "### Задание 3\n",
    "\n",
    "Напишите программу, на вход которой подаётся список чисел одной строкой. Программа должна для каждого элемента этого списка вывести сумму двух его соседей. Для элементов списка, являющихся крайними, одним из соседей считается элемент, находящий на противоположном конце этого списка. Например, если на вход подаётся список \"1 3 5 6 10\", то на выход ожидается список \"13 6 9 15 7\" (без кавычек).\n",
    "\n",
    "Если на вход пришло только одно число, надо вывести его же.\n",
    "\n",
    "Вывод должен содержать одну строку с числами нового списка, разделёнными пробелом."
   ]
  },
  {
   "cell_type": "code",
   "execution_count": null,
   "metadata": {},
   "outputs": [],
   "source": [
    "a = input()\n",
    "\n",
    "a = [int(i) for i in a.split()]\n",
    "new_list = []\n",
    "b = 0\n",
    "indx = 0\n",
    "\n",
    "if len(a) > 1:\n",
    "    while (len(a)-1) != (indx):\n",
    "        b = a[indx-1] + a[indx+1]\n",
    "        new_list.append(b)\n",
    "        indx += 1\n",
    "    new_list.append(a[(len(a)-1)-1] + a[0])\n",
    "else:\n",
    "    new_list = a\n",
    "\n",
    "print(' '.join(map(str, new_list)))"
   ]
  },
  {
   "cell_type": "markdown",
   "metadata": {},
   "source": [
    "### Задание 4\n",
    "\n",
    "Напишите программу, которая принимает на вход список чисел в одной строке и выводит на экран в одну строку значения, которые встречаются в нём более одного раза.\n",
    "\n",
    "Для решения задачи может пригодиться метод sort списка.\n",
    "\n",
    "Выводимые числа не должны повторяться, порядок их вывода может быть произвольным.\n",
    "\n",
    "Sample Input 1:\n",
    "\n",
    "4 8 0 3 4 2 0 3"
   ]
  },
  {
   "cell_type": "code",
   "execution_count": null,
   "metadata": {},
   "outputs": [],
   "source": [
    "a = input()\n",
    "\n",
    "a = [i for i in a.split()]\n",
    "b = a.copy()\n",
    "b.sort()\n",
    "new_list = []\n",
    "\n",
    "for i in b:\n",
    "    a.pop(a.index(i))\n",
    "    if (i in a) and (i not in new_list):\n",
    "        new_list.append(i)\n",
    "    else:\n",
    "        pass\n",
    "\n",
    "print(' '.join(map(str, new_list)))"
   ]
  },
  {
   "cell_type": "markdown",
   "metadata": {},
   "source": [
    "### Задание 5\n",
    "\n",
    "Напишите программу, которая считывает с консоли числа (по одному в строке) до тех пор, пока сумма введённых чисел не будет равна 0 и сразу после этого выводит сумму квадратов всех считанных чисел.\n",
    "\n",
    "Гарантируется, что в какой-то момент сумма введённых чисел окажется равной 0, после этого считывание продолжать не нужно.\n",
    "\n",
    "В примере мы считываем числа 1, -3, 5, -6, -10, 13; в этот момент замечаем, что сумма этих чисел равна нулю и выводим сумму их квадратов, не обращая внимания на то, что остались ещё не прочитанные значения.﻿\n",
    "\n",
    "Sample Input:\n",
    "\n",
    "1  \n",
    "-3  \n",
    "5  \n",
    "-6  \n",
    "-10  \n",
    "13  \n",
    "4  \n",
    "-8  "
   ]
  },
  {
   "cell_type": "code",
   "execution_count": null,
   "metadata": {},
   "outputs": [],
   "source": [
    "sqrt_list = []\n",
    "sum_list = []\n",
    "a = int(input())\n",
    "sum_list.append(a)\n",
    "\n",
    "while sum(sum_list) != 0:\n",
    "    b = int(input())\n",
    "    sum_list.append(b)\n",
    "    \n",
    "for i in sum_list:\n",
    "    i_sqrt = i ** 2\n",
    "    sqrt_list.append(i_sqrt)\n",
    "    \n",
    "print(sum(sqrt_list))"
   ]
  },
  {
   "cell_type": "markdown",
   "metadata": {},
   "source": [
    "### Задание 6\n",
    "\n",
    "Напишите программу, которая выводит часть последовательности 1 2 2 3 3 3 4 4 4 4 5 5 5 5 5 ... (число повторяется столько раз, чему равно). На вход программе передаётся неотрицательное целое число n — столько элементов последовательности должна отобразить программа. На выходе ожидается последовательность чисел, записанных через пробел в одну строку.\n",
    "\n",
    "Например, если n = 7, то программа должна вывести 1 2 2 3 3 3 4."
   ]
  },
  {
   "cell_type": "code",
   "execution_count": null,
   "metadata": {},
   "outputs": [],
   "source": [
    "n = int(input())\n",
    "lst = []\n",
    "num = 1\n",
    "\n",
    "while len(lst) != n:\n",
    "    if lst.count(num) != num:\n",
    "        lst.append(num)\n",
    "    else:\n",
    "        num += 1\n",
    "        \n",
    "print(' '.join(map(str, lst)))"
   ]
  },
  {
   "cell_type": "markdown",
   "metadata": {},
   "source": [
    "### Задание 7\n",
    "\n",
    "Напишите программу, которая считывает список чисел lstlst из первой строки и число xx из второй строки, которая выводит все позиции, на которых встречается число xx в переданном списке lstlst.\n",
    "\n",
    "Позиции нумеруются с нуля, если число xx не встречается в списке, вывести строку \"Отсутствует\" (без кавычек, с большой буквы).\n",
    "\n",
    "Позиции должны быть выведены в одну строку, по возрастанию абсолютного значения.\n",
    "\n",
    "Sample Input 1:\n",
    "\n",
    "5 8 2 7 8 8 2 4  \n",
    "8"
   ]
  },
  {
   "cell_type": "code",
   "execution_count": null,
   "metadata": {},
   "outputs": [],
   "source": [
    "lst = input()\n",
    "lst = lst.split(' ')\n",
    "\n",
    "x = str(input())\n",
    "new_list = []\n",
    "indx = 0\n",
    "\n",
    "for num in enumerate(lst):\n",
    "    if num[1] == x:\n",
    "        new_list.append(num[0])\n",
    "\n",
    "if len(new_list) == 0:\n",
    "    print('Отсутствует')\n",
    "else:\n",
    "    print(' '.join(map(str, new_list)))"
   ]
  },
  {
   "cell_type": "markdown",
   "metadata": {},
   "source": [
    "### Задание 8\n",
    "\n",
    "Напишите программу, на вход которой подаётся прямоугольная матрица в виде последовательности строк. После последней строки матрицы идёт строка, содержащая только строку \"end\" (без кавычек, см. Sample Input).\n",
    "\n",
    "Программа должна вывести матрицу того же размера, у которой каждый элемент в позиции i, j равен сумме элементов первой матрицы на позициях (i-1, j), (i+1, j), (i, j-1), (i, j+1). У крайних символов соседний элемент находится с противоположной стороны матрицы.\n",
    "\n",
    "В случае одной строки/столбца элемент сам себе является соседом по соответствующему направлению.\n",
    "\n",
    "Sample Input 1:\n",
    "\n",
    "9 5 3  \n",
    "0 7 -1  \n",
    "-5 2 9  \n",
    "end\n",
    "\n",
    "Sample Output 1:\n",
    "\n",
    "3 21 22  \n",
    "10 6 19  \n",
    "20 16 -1  "
   ]
  },
  {
   "cell_type": "code",
   "execution_count": null,
   "metadata": {},
   "outputs": [],
   "source": [
    "matrix = []\n",
    "lst = 0\n",
    "\n",
    "while lst != 'end':\n",
    "    lst = input()\n",
    "    if lst != 'end':\n",
    "        lst = list(map(int, lst.split(' ')))\n",
    "        matrix.append(lst)\n",
    "\n",
    "total_matrix = []\n",
    "\n",
    "rows = len(matrix)\n",
    "columns = len(matrix[0])\n",
    "\n",
    "for i in range(rows):\n",
    "    total_matrix.append([])\n",
    "    for j in range(columns):\n",
    "        sum = (matrix[(i-1)][j]) + \\\n",
    "              (matrix[(i+1) if i<rows-1 else 0][j]) + \\\n",
    "              (matrix[i][(j-1)]) + \\\n",
    "              (matrix[i][(j+1) if j<columns-1 else 0])\n",
    "        total_matrix[i].append(sum)\n",
    "\n",
    "for lst in total_matrix:\n",
    "    print(' '.join(map(str, lst)))"
   ]
  },
  {
   "cell_type": "markdown",
   "metadata": {},
   "source": [
    "### Задание 9\n",
    "\n",
    "Выведите таблицу размером n \\times nn×n, заполненную числами от 11 до n^2n \n",
    "2\n",
    "  по спирали, выходящей из левого верхнего угла и закрученной по часовой стрелке, как показано в примере (здесь n=5n=5):  \n",
    "\n",
    "Sample Input:\n",
    "\n",
    "5\n",
    "\n",
    "Sample Output:\n",
    "\n",
    "1 2 3 4 5  \n",
    "16 17 18 19 6  \n",
    "15 24 25 20 7  \n",
    "14 23 22 21 8  \n",
    "13 12 11 10 9  "
   ]
  },
  {
   "cell_type": "code",
   "execution_count": null,
   "metadata": {},
   "outputs": [],
   "source": [
    "a = int(input())\n",
    "\n",
    "n = [[0]*a for i in range(a)]\n",
    "x,y = 0, 0\n",
    "\n",
    "for i in range(1, (a**2) + 1):\n",
    "    n[x][y] = i\n",
    "    if x <= y + 1 and x + y < a - 1: y += 1\n",
    "    elif x < y: x += 1\n",
    "    elif x + y >= a : y -= 1\n",
    "    elif x >= y : x -= 1\n",
    "for i in range(a):\n",
    "    print(*n[i])"
   ]
  },
  {
   "cell_type": "markdown",
   "metadata": {},
   "source": [
    "### Задание 10\n",
    "\n",
    "Напишите функцию modify_list(l), которая принимает на вход список целых чисел, удаляет из него все нечётные значения, а чётные нацело делит на два. Функция не должна ничего возвращать, требуется только изменение переданного списка, например:  \n",
    "\n",
    "lst = [1, 2, 3, 4, 5, 6]  \n",
    "print(modify_list(lst))  # None  \n",
    "print(lst)               # [1, 2, 3]  \n",
    "modify_list(lst)  \n",
    "print(lst)               # [1]  \n",
    "  \n",
    "lst = [10, 5, 8, 3]  \n",
    "modify_list(lst)  \n",
    "print(lst)               # [5, 4]  "
   ]
  },
  {
   "cell_type": "code",
   "execution_count": null,
   "metadata": {},
   "outputs": [],
   "source": [
    "def modify_list(l):\n",
    "    for i in reversed(range(len(l))):\n",
    "        if l[i] % 2 == 0:\n",
    "            l[i] //= 2\n",
    "        else:\n",
    "            del l[i]"
   ]
  },
  {
   "cell_type": "markdown",
   "metadata": {},
   "source": [
    "### Задание 11\n",
    "\n",
    "Напишите функцию update_dictionary(d, key, value), которая принимает на вход словарь dd и два числа: keykey и valuevalue.\n",
    "\n",
    "Если ключ keykey есть в словаре dd, то добавьте значение valuevalue в список, который хранится по этому ключу.\n",
    "Если ключа keykey нет в словаре, то нужно добавить значение в список по ключу 2 * key2∗key. Если и ключа 2 * key2∗key нет, то нужно добавить ключ 2 * key2∗key в словарь и сопоставить ему список из переданного элемента [value][value].\n",
    "\n",
    "Требуется реализовать только эту функцию, кода вне её не должно быть.\n",
    "Функция не должна вызывать внутри себя функции input и print.\n",
    "\n",
    "Пример работы функции:\n",
    "\n",
    "d = {}  \n",
    "print(update_dictionary(d, 1, -1))  # None  \n",
    "print(d)                            # {2: [-1]}  \n",
    "update_dictionary(d, 2, -2)  \n",
    "print(d)                            # {2: [-1, -2]}  \n",
    "update_dictionary(d, 1, -3)  \n",
    "print(d)                            # {2: [-1, -2, -3]}  "
   ]
  },
  {
   "cell_type": "code",
   "execution_count": null,
   "metadata": {},
   "outputs": [],
   "source": [
    "def update_dictionary(d, key, value):\n",
    "    if key in d.keys():\n",
    "        d[key] = d.get(key, []) + [value]\n",
    "    elif key not in d.keys():\n",
    "        if 2*key in d.keys():\n",
    "            #key_2 = 2 * key\n",
    "            d[2*key] = d.get(2*key, []) + [value]\n",
    "        else:\n",
    "            key_2 = 2 * key\n",
    "            d[key_2] = d.get(key, []) + [value]"
   ]
  },
  {
   "cell_type": "markdown",
   "metadata": {},
   "source": [
    "### Задание 12\n",
    "\n",
    "Когда Антон прочитал «Войну и мир», ему стало интересно, сколько слов и в каком количестве используется в этой книге.\n",
    "\n",
    "Помогите Антону написать упрощённую версию такой программы, которая сможет подсчитать слова, разделённые пробелом и вывести получившуюся статистику.\n",
    "\n",
    "Программа должна считывать одну строку со стандартного ввода и выводить для каждого уникального слова в этой строке число его повторений (без учёта регистра) в формате \"слово количество\" (см. пример вывода).\n",
    "Порядок вывода слов может быть произвольным, каждое уникальное слово должно выводиться только один раз.  \n",
    "\n",
    "Sample Input 1:\n",
    "\n",
    "a aa abC aa ac abc bcd a"
   ]
  },
  {
   "cell_type": "code",
   "execution_count": null,
   "metadata": {},
   "outputs": [],
   "source": [
    "words = input()\n",
    "words = words.split(' ')\n",
    "\n",
    "d = {}\n",
    "\n",
    "for word in words:\n",
    "    if word.lower() not in d.keys():\n",
    "        count = 1\n",
    "        d[word.lower()] = d.get(word, count)\n",
    "    elif word.lower() in d.keys():\n",
    "        count = d[word.lower()] + 1\n",
    "        d[word.lower()] = count\n",
    "\n",
    "for key, value in d.items():\n",
    "    print(key, value, end='\\n')"
   ]
  },
  {
   "cell_type": "markdown",
   "metadata": {},
   "source": [
    "### Задание 13\n",
    "\n",
    "Напишите программу, которая считывает строку с числом nn, которое задаёт количество чисел, которые нужно считать. Далее считывает n строк с числами x_i, по одному числу в каждой строке. Итого будет n+1n+1 строк.\n",
    "\n",
    "При считывании числа x_i программа должна на отдельной строке вывести значение f(x_i)f(x). Функция f(x) уже реализована и доступна для вызова. \n",
    "\n",
    "Функция вычисляется достаточно долго и зависит только от переданного аргумента xx. Для того, чтобы уложиться в ограничение по времени, нужно избежать повторного вычисления значений.\n",
    "\n",
    "Sample Input:\n",
    "\n",
    "5  \n",
    "5  \n",
    "12  \n",
    "9  \n",
    "20  \n",
    "12  \n",
    "\n",
    "Sample Output:  \n",
    "\n",
    "11  \n",
    "41  \n",
    "47  \n",
    "61  \n",
    "41  "
   ]
  },
  {
   "cell_type": "code",
   "execution_count": null,
   "metadata": {},
   "outputs": [],
   "source": [
    "d = {}\n",
    "for _ in range(int(input())):\n",
    "    x = int(input())\n",
    "    if x not in d:\n",
    "        d[x] = f(x)\n",
    "    print(d[x])"
   ]
  },
  {
   "cell_type": "markdown",
   "metadata": {},
   "source": [
    "### Задание 14\n",
    "\n",
    "Имеется набор файлов, каждый из которых, кроме последнего, содержит имя следующего файла.\n",
    "Первое слово в тексте последнего файла: \"We\".\n",
    "\n",
    "Скачайте предложенный файл. В нём содержится ссылка на первый файл из этого набора.\n",
    "\n",
    "Все файлы располагаются в каталоге по адресу:\n",
    "https://stepic.org/media/attachments/course67/3.6.3/\n",
    "\n",
    "Загрузите содержимое ﻿последнего файла из набора, как ответ на это задание."
   ]
  },
  {
   "cell_type": "code",
   "execution_count": 10,
   "metadata": {},
   "outputs": [
    {
     "name": "stdout",
     "output_type": "stream",
     "text": [
      "We are the champions, my friends,\n",
      "And we'll keep on fighting 'til the end.\n",
      "We are the champions.\n",
      "We are the champions.\n",
      "No time for losers\n",
      "'Cause we are the champions of the world.\n"
     ]
    }
   ],
   "source": [
    "import requests\n",
    "\n",
    "download_link = 'https://stepic.org/media/attachments/course67/3.6.3/'\n",
    "filename = '699991.txt'\n",
    " \n",
    "while filename:\n",
    "    #print(filename)\n",
    "    r = requests.get(download_link+filename)\n",
    "    filename = None if r.text.startswith('We') else r.text\n",
    " \n",
    "print(r.text)"
   ]
  },
  {
   "cell_type": "markdown",
   "metadata": {},
   "source": [
    "### Задание 15\n",
    "\n",
    "Напишите программу, которая принимает на стандартный вход список игр футбольных команд с результатом матча и выводит на стандартный вывод сводную таблицу результатов всех матчей.\n",
    "\n",
    "За победу команде начисляется 3 очка, за поражение — 0, за ничью — 1.\n",
    "\n",
    "Формат ввода следующий:\n",
    "В первой строке указано целое число nn — количество завершенных игр.\n",
    "После этого идет nn строк, в которых записаны результаты игры в следующем формате:\n",
    "Первая_команда;Забито_первой_командой;Вторая_команда;Забито_второй_командой\n",
    "\n",
    "Вывод программы необходимо оформить следующим образом:\n",
    "Команда:Всего_игр Побед Ничьих Поражений Всего_очков"
   ]
  },
  {
   "cell_type": "code",
   "execution_count": null,
   "metadata": {},
   "outputs": [],
   "source": [
    "n = int(input()) #количество игр (из примера 3)\n",
    "x_list = [input().split(';') for x in range(n)] #матчи (из примера Спартак;9;Зенит;10  Локомотив;12;Зенит;3  Спартак;8;Локомотив;15)\n",
    "vs = [(x[0], x[2]) for x in x_list]\n",
    "clubs = set(__import__(\"itertools\").chain.from_iterable(vs))\n",
    "res = {club: [0, 0, 0, 0, 0] for club in clubs} #итоговый словарь вида Команда:Всего_игр Побед Ничьих Поражений Всего_очков\n",
    " \n",
    "for kom1, gol1, kom2, gol2 in x_list:\n",
    "    res[kom1][0] += 1\n",
    "    res[kom2][0] += 1\n",
    "    if int(gol1) > int(gol2):\n",
    "        res[kom1][1] += 1\n",
    "        res[kom1][4] += 3\n",
    "        res[kom2][3] += 1\n",
    "    elif int(gol1) < int(gol2):\n",
    "        res[kom2][1] += 1\n",
    "        res[kom2][4] += 3\n",
    "        res[kom1][3] += 1\n",
    "    elif int(gol1) == int(gol2):\n",
    "        res[kom1][2] += 1\n",
    "        res[kom1][4] += 1\n",
    "        res[kom2][2] += 1\n",
    "        res[kom2][4] += 1\n",
    "        \n",
    "[print('{}: {}'.format(club, ' '.join(map(str, res[club])))) for club in clubs]\n"
   ]
  },
  {
   "cell_type": "markdown",
   "metadata": {},
   "source": [
    "### Задание 16\n",
    "\n",
    "В какой-то момент в Институте биоинформатики биологи перестали понимать, что говорят информатики: они говорили каким-то странным набором звуков.\n",
    "\n",
    "В какой-то момент один из биологов раскрыл секрет информатиков: они использовали при общении подстановочный шифр, т.е. заменяли каждый символ исходного сообщения на соответствующий ему другой символ. Биологи раздобыли ключ к шифру и теперь нуждаются в помощи:\n",
    "\n",
    "Напишите программу, которая умеет шифровать и расшифровывать шифр подстановки. Программа принимает на вход две строки одинаковой длины, на первой строке записаны символы исходного алфавита, на второй строке — символы конечного алфавита, после чего идёт строка, которую нужно зашифровать переданным ключом, и ещё одна строка, которую нужно расшифровать.\n",
    "\n",
    "Пусть, например, на вход программе передано:  \n",
    "abcd  \n",
    "*d%#  \n",
    "abacabadaba  \n",
    "#*%*d*%  \n",
    "\n",
    "Это значит, что символ a исходного сообщения заменяется на символ * в шифре, b заменяется на d, c — на % и d — на #.\n",
    "Нужно зашифровать строку abacabadaba и расшифровать строку #*%*d*% с помощью этого шифра. Получаем следующие строки, которые и передаём на вывод программы:\n",
    "*d*%*d*#*d*\n",
    "dacabac"
   ]
  },
  {
   "cell_type": "code",
   "execution_count": 3,
   "metadata": {},
   "outputs": [
    {
     "ename": "KeyboardInterrupt",
     "evalue": "Interrupted by user",
     "output_type": "error",
     "traceback": [
      "\u001b[0;31m---------------------------------------------------------------------------\u001b[0m",
      "\u001b[0;31mKeyboardInterrupt\u001b[0m                         Traceback (most recent call last)",
      "\u001b[1;32m/home/belov_engineer/Рабочий стол/Education/DS Learning/1. Stepik/stepik_python.ipynb Ячейка 33\u001b[0m in \u001b[0;36m<cell line: 3>\u001b[0;34m()\u001b[0m\n\u001b[1;32m      <a href='vscode-notebook-cell:/home/belov_engineer/%D0%A0%D0%B0%D0%B1%D0%BE%D1%87%D0%B8%D0%B9%20%D1%81%D1%82%D0%BE%D0%BB/Education/DS%20Learning/1.%20Stepik/stepik_python.ipynb#X44sZmlsZQ%3D%3D?line=0'>1</a>\u001b[0m \u001b[39m# решение\u001b[39;00m\n\u001b[0;32m----> <a href='vscode-notebook-cell:/home/belov_engineer/%D0%A0%D0%B0%D0%B1%D0%BE%D1%87%D0%B8%D0%B9%20%D1%81%D1%82%D0%BE%D0%BB/Education/DS%20Learning/1.%20Stepik/stepik_python.ipynb#X44sZmlsZQ%3D%3D?line=2'>3</a>\u001b[0m s0 \u001b[39m=\u001b[39m [i \u001b[39mfor\u001b[39;00m i \u001b[39min\u001b[39;00m \u001b[39minput\u001b[39;49m()]\n\u001b[1;32m      <a href='vscode-notebook-cell:/home/belov_engineer/%D0%A0%D0%B0%D0%B1%D0%BE%D1%87%D0%B8%D0%B9%20%D1%81%D1%82%D0%BE%D0%BB/Education/DS%20Learning/1.%20Stepik/stepik_python.ipynb#X44sZmlsZQ%3D%3D?line=3'>4</a>\u001b[0m s1 \u001b[39m=\u001b[39m [i \u001b[39mfor\u001b[39;00m i \u001b[39min\u001b[39;00m \u001b[39minput\u001b[39m()]\n\u001b[1;32m      <a href='vscode-notebook-cell:/home/belov_engineer/%D0%A0%D0%B0%D0%B1%D0%BE%D1%87%D0%B8%D0%B9%20%D1%81%D1%82%D0%BE%D0%BB/Education/DS%20Learning/1.%20Stepik/stepik_python.ipynb#X44sZmlsZQ%3D%3D?line=4'>5</a>\u001b[0m d \u001b[39m=\u001b[39m {}\n",
      "File \u001b[0;32m~/.local/lib/python3.8/site-packages/ipykernel/kernelbase.py:1159\u001b[0m, in \u001b[0;36mKernel.raw_input\u001b[0;34m(self, prompt)\u001b[0m\n\u001b[1;32m   1155\u001b[0m \u001b[39mif\u001b[39;00m \u001b[39mnot\u001b[39;00m \u001b[39mself\u001b[39m\u001b[39m.\u001b[39m_allow_stdin:\n\u001b[1;32m   1156\u001b[0m     \u001b[39mraise\u001b[39;00m StdinNotImplementedError(\n\u001b[1;32m   1157\u001b[0m         \u001b[39m\"\u001b[39m\u001b[39mraw_input was called, but this frontend does not support input requests.\u001b[39m\u001b[39m\"\u001b[39m\n\u001b[1;32m   1158\u001b[0m     )\n\u001b[0;32m-> 1159\u001b[0m \u001b[39mreturn\u001b[39;00m \u001b[39mself\u001b[39;49m\u001b[39m.\u001b[39;49m_input_request(\n\u001b[1;32m   1160\u001b[0m     \u001b[39mstr\u001b[39;49m(prompt),\n\u001b[1;32m   1161\u001b[0m     \u001b[39mself\u001b[39;49m\u001b[39m.\u001b[39;49m_parent_ident[\u001b[39m\"\u001b[39;49m\u001b[39mshell\u001b[39;49m\u001b[39m\"\u001b[39;49m],\n\u001b[1;32m   1162\u001b[0m     \u001b[39mself\u001b[39;49m\u001b[39m.\u001b[39;49mget_parent(\u001b[39m\"\u001b[39;49m\u001b[39mshell\u001b[39;49m\u001b[39m\"\u001b[39;49m),\n\u001b[1;32m   1163\u001b[0m     password\u001b[39m=\u001b[39;49m\u001b[39mFalse\u001b[39;49;00m,\n\u001b[1;32m   1164\u001b[0m )\n",
      "File \u001b[0;32m~/.local/lib/python3.8/site-packages/ipykernel/kernelbase.py:1201\u001b[0m, in \u001b[0;36mKernel._input_request\u001b[0;34m(self, prompt, ident, parent, password)\u001b[0m\n\u001b[1;32m   1198\u001b[0m             \u001b[39mbreak\u001b[39;00m\n\u001b[1;32m   1199\u001b[0m \u001b[39mexcept\u001b[39;00m \u001b[39mKeyboardInterrupt\u001b[39;00m:\n\u001b[1;32m   1200\u001b[0m     \u001b[39m# re-raise KeyboardInterrupt, to truncate traceback\u001b[39;00m\n\u001b[0;32m-> 1201\u001b[0m     \u001b[39mraise\u001b[39;00m \u001b[39mKeyboardInterrupt\u001b[39;00m(\u001b[39m\"\u001b[39m\u001b[39mInterrupted by user\u001b[39m\u001b[39m\"\u001b[39m) \u001b[39mfrom\u001b[39;00m \u001b[39mNone\u001b[39m\n\u001b[1;32m   1202\u001b[0m \u001b[39mexcept\u001b[39;00m \u001b[39mException\u001b[39;00m:\n\u001b[1;32m   1203\u001b[0m     \u001b[39mself\u001b[39m\u001b[39m.\u001b[39mlog\u001b[39m.\u001b[39mwarning(\u001b[39m\"\u001b[39m\u001b[39mInvalid Message:\u001b[39m\u001b[39m\"\u001b[39m, exc_info\u001b[39m=\u001b[39m\u001b[39mTrue\u001b[39;00m)\n",
      "\u001b[0;31mKeyboardInterrupt\u001b[0m: Interrupted by user"
     ]
    }
   ],
   "source": [
    "s0 = [i for i in input()]\n",
    "s1 = [i for i in input()]\n",
    "d = {}\n",
    "\n",
    "for i in range(len(s0)):\n",
    "    d[s0[i]] = s1[i]\n",
    "    \n",
    "for i in input():\n",
    "    print(d[i], end='')\n",
    "    \n",
    "print()\n",
    "\n",
    "for i in input():\n",
    "    for j in d:\n",
    "        if i == d[j]:\n",
    "            print(j, end='')"
   ]
  },
  {
   "cell_type": "markdown",
   "metadata": {},
   "source": [
    "### Задание 17\n",
    "\n",
    "Простейшая система проверки орфографии может быть основана на использовании списка известных слов.\n",
    "Если введённое слово не найдено в этом списке, оно помечается как \"ошибка\".\n",
    "\n",
    "Попробуем написать подобную систему.\n",
    "\n",
    "На вход программе первой строкой передаётся количество dd известных нам слов, после чего на dd строках указываются эти слова. Затем передаётся количество ll строк текста для проверки, после чего ll строк текста.\n",
    "\n",
    "Выведите уникальные \"ошибки\" в произвольном порядке. Работу производите без учёта регистра."
   ]
  },
  {
   "cell_type": "code",
   "execution_count": null,
   "metadata": {},
   "outputs": [],
   "source": [
    "l, l1 = [], []\n",
    "\n",
    "for i in range(int(input())):\n",
    "    l.append(input().lower())\n",
    "\n",
    "for i in range(int(input())):\n",
    "    l1 += input().lower().split()\n",
    "\n",
    "for i in set(l1):\n",
    "    if i not in l:\n",
    "        print(i)"
   ]
  },
  {
   "cell_type": "markdown",
   "metadata": {},
   "source": [
    "### Задание 18\n",
    "\n",
    "Группа биологов в институте биоинформатики завела себе черепашку.\n",
    "\n",
    "После дрессировки черепашка научилась понимать и запоминать указания биологов следующего вида:  \n",
    "север 10  \n",
    "запад 20  \n",
    "юг 30  \n",
    "восток 40  \n",
    "где первое слово — это направление, в котором должна двигаться черепашка, а число после слова — это положительное расстояние в сантиметрах, которое должна пройти черепашка.\n",
    "\n",
    "Но команды даются быстро, а черепашка ползёт медленно, и программисты догадались, что можно написать программу, которая определит, куда в итоге биологи приведут черепашку. Для этого программисты просят вас написать программу, которая выведет точку, в которой окажется черепашка после всех команд. Для простоты они решили считать, что движение начинается в точке (0, 0), и движение на восток увеличивает первую координату, а на север — вторую.\n",
    "\n",
    "Программе подаётся на вход число команд nn, которые нужно выполнить черепашке, после чего nn строк с самими командами. Вывести нужно два числа в одну строку: первую и вторую координату конечной точки черепашки. Все координаты целочисленные."
   ]
  },
  {
   "cell_type": "code",
   "execution_count": 3,
   "metadata": {},
   "outputs": [
    {
     "ename": "ValueError",
     "evalue": "invalid literal for int() with base 10: 'север 10'",
     "output_type": "error",
     "traceback": [
      "\u001b[0;31m---------------------------------------------------------------------------\u001b[0m",
      "\u001b[0;31mValueError\u001b[0m                                Traceback (most recent call last)",
      "\u001b[1;32m/home/belov_engineer/Рабочий стол/Education/DS Learning/1. Stepik/stepik_python.ipynb Ячейка 37\u001b[0m in \u001b[0;36m<cell line: 1>\u001b[0;34m()\u001b[0m\n\u001b[0;32m----> <a href='vscode-notebook-cell:/home/belov_engineer/%D0%A0%D0%B0%D0%B1%D0%BE%D1%87%D0%B8%D0%B9%20%D1%81%D1%82%D0%BE%D0%BB/Education/DS%20Learning/1.%20Stepik/stepik_python.ipynb#X51sZmlsZQ%3D%3D?line=0'>1</a>\u001b[0m n \u001b[39m=\u001b[39m \u001b[39mint\u001b[39;49m(\u001b[39minput\u001b[39;49m())\n\u001b[1;32m      <a href='vscode-notebook-cell:/home/belov_engineer/%D0%A0%D0%B0%D0%B1%D0%BE%D1%87%D0%B8%D0%B9%20%D1%81%D1%82%D0%BE%D0%BB/Education/DS%20Learning/1.%20Stepik/stepik_python.ipynb#X51sZmlsZQ%3D%3D?line=1'>2</a>\u001b[0m pos \u001b[39m=\u001b[39m [\u001b[39m0\u001b[39m, \u001b[39m0\u001b[39m]\n\u001b[1;32m      <a href='vscode-notebook-cell:/home/belov_engineer/%D0%A0%D0%B0%D0%B1%D0%BE%D1%87%D0%B8%D0%B9%20%D1%81%D1%82%D0%BE%D0%BB/Education/DS%20Learning/1.%20Stepik/stepik_python.ipynb#X51sZmlsZQ%3D%3D?line=3'>4</a>\u001b[0m \u001b[39mfor\u001b[39;00m i \u001b[39min\u001b[39;00m \u001b[39mrange\u001b[39m(n):\n",
      "\u001b[0;31mValueError\u001b[0m: invalid literal for int() with base 10: 'север 10'"
     ]
    }
   ],
   "source": [
    "n = int(input())\n",
    "pos = [0, 0]\n",
    "\n",
    "for i in range(n):\n",
    "    cmd = input()\n",
    "    ls = cmd.split()\n",
    "    if ls[0] == \"север\":\n",
    "        pos[1] += int(ls[1])\n",
    "    elif ls[0] == \"запад\":\n",
    "        pos[0] -= int(ls[1])\n",
    "    elif ls[0] == \"юг\":\n",
    "        pos[1] -= int(ls[1])\n",
    "    elif ls[0] == \"восток\":\n",
    "        pos[0] += int(ls[1])\n",
    " \n",
    "print(pos[0], pos[1])"
   ]
  }
 ],
 "metadata": {
  "kernelspec": {
   "display_name": "Python 3.8.10 64-bit",
   "language": "python",
   "name": "python3"
  },
  "language_info": {
   "codemirror_mode": {
    "name": "ipython",
    "version": 3
   },
   "file_extension": ".py",
   "mimetype": "text/x-python",
   "name": "python",
   "nbconvert_exporter": "python",
   "pygments_lexer": "ipython3",
   "version": "3.8.10"
  },
  "orig_nbformat": 4,
  "vscode": {
   "interpreter": {
    "hash": "916dbcbb3f70747c44a77c7bcd40155683ae19c65e1c03b4aa3499c5328201f1"
   }
  }
 },
 "nbformat": 4,
 "nbformat_minor": 2
}
