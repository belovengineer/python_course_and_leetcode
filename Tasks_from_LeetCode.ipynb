{
 "cells": [
  {
   "attachments": {},
   "cell_type": "markdown",
   "metadata": {},
   "source": [
    "# LeetCode"
   ]
  },
  {
   "attachments": {},
   "cell_type": "markdown",
   "metadata": {},
   "source": [
    "#### 1. Two Sum"
   ]
  },
  {
   "attachments": {},
   "cell_type": "markdown",
   "metadata": {},
   "source": [
    "Given an array of integers nums and an integer target, return indices of the two numbers such that they add up to target.  \n",
    "  \n",
    "You may assume that each input would have exactly one solution, and you may not use the same element twice.  \n",
    "  \n",
    "You can return the answer in any order.  \n",
    "  \n",
    "Example 1:  \n",
    "  \n",
    "Input: nums = [2,7,11,15], target = 9  \n",
    "Output: [0,1]  \n",
    "Explanation: Because nums[0] + nums[1] == 9, we return [0, 1].  \n",
    "Example 2:  \n",
    "  \n",
    "Input: nums = [3,2,4], target = 6  \n",
    "Output: [1,2]  \n",
    "Example 3:  \n",
    "  \n",
    "Input: nums = [3,3], target = 6  \n",
    "Output: [0,1]  "
   ]
  },
  {
   "cell_type": "code",
   "execution_count": 2,
   "metadata": {},
   "outputs": [
    {
     "name": "stdout",
     "output_type": "stream",
     "text": [
      "[0, 2]\n"
     ]
    }
   ],
   "source": [
    "def twoSum(nums, target):\n",
    "    res = {} #создаю словарь, для хранения пары значение/индекс\n",
    "    for i, num in enumerate(nums): \n",
    "        if target - num in res: # проверяю наличие ключа в словаре, если итоговое значение даёт 0\n",
    "            return [res[target - num], i] # возвращаю значения, соответствующие ключам\n",
    "        else:\n",
    "            res[num] = i \n",
    "\n",
    "print(twoSum([3, 2, 3], 6))"
   ]
  },
  {
   "cell_type": "markdown",
   "metadata": {},
   "source": [
    "#### 9. Palindrome Number"
   ]
  },
  {
   "cell_type": "markdown",
   "metadata": {},
   "source": [
    "Given an integer x, return true if x is a palindrome, and false otherwise."
   ]
  },
  {
   "cell_type": "code",
   "execution_count": null,
   "metadata": {},
   "outputs": [],
   "source": [
    "class Solution:\n",
    "    def isPalindrome(self, x: int) -> bool:\n",
    "        x_str = str(x)\n",
    "        if str(x) == x_str[::-1]:\n",
    "            return True\n",
    "        else:\n",
    "            return False"
   ]
  },
  {
   "cell_type": "markdown",
   "metadata": {},
   "source": [
    "#### 13. Roman to Integer"
   ]
  },
  {
   "cell_type": "markdown",
   "metadata": {},
   "source": [
    "Roman numerals are represented by seven different symbols: I, V, X, L, C, D and M.\n",
    "\n",
    "Roman numerals are usually written largest to smallest from left to right. However, the numeral for four is not IIII. Instead, the number four is written as IV. Because the one is before the five we subtract it making four. The same principle applies to the number nine, which is written as IX. There are six instances where subtraction is used:\n",
    "\n",
    "I can be placed before V (5) and X (10) to make 4 and 9. \n",
    "X can be placed before L (50) and C (100) to make 40 and 90. \n",
    "C can be placed before D (500) and M (1000) to make 400 and 900.\n",
    "Given a roman numeral, convert it to an integer.\n",
    "\n"
   ]
  },
  {
   "cell_type": "code",
   "execution_count": null,
   "metadata": {},
   "outputs": [],
   "source": [
    "class Solution:\n",
    "    def romanToInt(self, s: str) -> int:\n",
    "        num_dict = {'I': 1, 'V': 5, 'X': 10, 'L': 50, 'C': 100, 'D': 500, 'M': 1000}\n",
    "        n = len(s)\n",
    "        arab_num = num_dict[s[n-1]]\n",
    "        s = list(s)\n",
    "        for i in range(len(s)-2, -1, -1):\n",
    "            if num_dict[s[i]] >= num_dict[s[i+1]]:\n",
    "                arab_num += num_dict[s[i]]\n",
    "            else:\n",
    "                arab_num -= num_dict[s[i]]\n",
    "        return arab_num"
   ]
  },
  {
   "attachments": {},
   "cell_type": "markdown",
   "metadata": {},
   "source": [
    "## LeetCode 75"
   ]
  },
  {
   "attachments": {},
   "cell_type": "markdown",
   "metadata": {},
   "source": [
    "### Level 1"
   ]
  },
  {
   "attachments": {},
   "cell_type": "markdown",
   "metadata": {},
   "source": [
    "#### 1480. Running Sum of 1d Array"
   ]
  },
  {
   "attachments": {},
   "cell_type": "markdown",
   "metadata": {},
   "source": [
    "Given an array nums. We define a running sum of an array as runningSum[i] = sum(nums[0]…nums[i]).  \n",
    "  \n",
    "Return the running sum of nums.  \n",
    "\n",
    "<b>Example 1:</b>\n",
    "\n",
    "Input: nums = [1,2,3,4]  \n",
    "Output: [1,3,6,10]  \n",
    "Explanation: Running sum is obtained as follows: [1, 1+2, 1+2+3, 1+2+3+4].  \n",
    "\n",
    "<b>Example 2:</b>  \n",
    "\n",
    "Input: nums = [1,1,1,1,1]  \n",
    "Output: [1,2,3,4,5]  \n",
    "Explanation: Running sum is obtained as follows: [1, 1+1, 1+1+1, 1+1+1+1, 1+1+1+1+1].  \n",
    "\n",
    "<b>Example 3:</b>  \n",
    "  \n",
    "Input: nums = [3,1,2,10,1]  \n",
    "Output: [3,4,6,16,17]  "
   ]
  },
  {
   "cell_type": "code",
   "execution_count": 15,
   "metadata": {},
   "outputs": [
    {
     "data": {
      "text/plain": [
       "[3, 4, 6, 16, 17]"
      ]
     },
     "execution_count": 15,
     "metadata": {},
     "output_type": "execute_result"
    }
   ],
   "source": [
    "def runningSum(nums):\n",
    "    sum_list = [] #создаем список для результатов\n",
    "    \n",
    "    for i in range(len(nums)): #перебираем индексы\n",
    "        if i == 0:\n",
    "            sum_list.append(nums[i]) #добавляем нулевой элемент без изменения\n",
    "        else:\n",
    "            summa = 0\n",
    "            while i >= 0: #пока индекс не достиг нулевого значения\n",
    "                summa += nums[i] #добавляем число к результату\n",
    "                i -= 1 #переходим к элементу слева\n",
    "            sum_list.append(summa) \n",
    "            \n",
    "    return sum_list\n",
    "\n",
    "runningSum([3,1,2,10,1])\n",
    "\n",
    "#class Solution:\n",
    "#    def runningSum(self, nums: List[int]) -> List[int]:\n",
    "#        for i in nums:"
   ]
  },
  {
   "attachments": {},
   "cell_type": "markdown",
   "metadata": {},
   "source": [
    "#### 724. Find Pivot Index"
   ]
  },
  {
   "attachments": {},
   "cell_type": "markdown",
   "metadata": {},
   "source": [
    "Given an array of integers nums, calculate the pivot index of this array.  \n",
    "The pivot index is the index where the sum of all the numbers strictly to the left of the index is equal to the sum of all the numbers strictly to the index's right.  \n",
    "If the index is on the left edge of the array, then the left sum is 0 because there are no elements to the left. This also applies to the right edge of the array.  \n",
    "Return the leftmost pivot index. If no such index exists, return -1.  \n",
    "\n",
    "Example 1:  \n",
    "\n",
    "Input: nums = [1,7,3,6,5,6]  \n",
    "Output: 3  \n",
    "Explanation:  \n",
    "The pivot index is 3.  \n",
    "Left sum = nums[0] + nums[1] + nums[2] = 1 + 7 + 3 = 11  \n",
    "Right sum = nums[4] + nums[5] = 5 + 6 = 11  \n",
    "Example 2:  \n",
    "\n",
    "Input: nums = [1,2,3]  \n",
    "Output: -1  \n",
    "Explanation:  \n",
    "There is no index that satisfies the conditions in the problem statement.  \n",
    "Example 3:  \n",
    "\n",
    "Input: nums = [2,1,-1]  \n",
    "Output: 0  \n",
    "Explanation:  \n",
    "The pivot index is 0.  \n",
    "Left sum = 0 (no elements to the left of index 0)  \n",
    "Right sum = nums[1] + nums[2] = 1 + -1 = 0  \n",
    "\n",
    "Constraints:  \n",
    "\n",
    "1 <= nums.length <= 104  \n",
    "-1000 <= nums[i] <= 1000  \n"
   ]
  },
  {
   "cell_type": "code",
   "execution_count": 9,
   "metadata": {},
   "outputs": [
    {
     "data": {
      "text/plain": [
       "-1"
      ]
     },
     "execution_count": 9,
     "metadata": {},
     "output_type": "execute_result"
    }
   ],
   "source": [
    "def pivotIndex(nums) -> int:\n",
    "    sum_left = 0 #сумма слева от опорного индекса\n",
    "    sum_right = 0 #сумма справа от опорного индекса\n",
    "    for i in range(len(nums)): # i - опорный индекс\n",
    "        sum_left = sum(nums[:i])\n",
    "        sum_right = sum(nums[i+1:])\n",
    "        if sum_left == sum_right: \n",
    "            return i\n",
    "    return -1 #если опорный индекс не найден\n",
    "\n",
    "pivotIndex([1, 2, 3])"
   ]
  }
 ],
 "metadata": {
  "kernelspec": {
   "display_name": "Python 3.8.10 64-bit",
   "language": "python",
   "name": "python3"
  },
  "language_info": {
   "codemirror_mode": {
    "name": "ipython",
    "version": 3
   },
   "file_extension": ".py",
   "mimetype": "text/x-python",
   "name": "python",
   "nbconvert_exporter": "python",
   "pygments_lexer": "ipython3",
   "version": "3.8.10"
  },
  "orig_nbformat": 4,
  "vscode": {
   "interpreter": {
    "hash": "916dbcbb3f70747c44a77c7bcd40155683ae19c65e1c03b4aa3499c5328201f1"
   }
  }
 },
 "nbformat": 4,
 "nbformat_minor": 2
}
